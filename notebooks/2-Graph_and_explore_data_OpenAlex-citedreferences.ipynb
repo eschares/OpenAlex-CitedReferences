{
 "cells": [
  {
   "cell_type": "code",
   "execution_count": null,
   "id": "1cb26ff8-d0c8-4406-ae28-254cfe515f96",
   "metadata": {},
   "outputs": [],
   "source": []
  },
  {
   "cell_type": "markdown",
   "id": "a39b05a7-2ab6-4a23-b810-eb32c88b9163",
   "metadata": {
    "id": "bbc4bdcc"
   },
   "source": [
    "# OpenAlex Cited References\n",
    "### STI 2023\n",
    "#### Eric Schares, Iowa State University; [eschares.github.io](eschares.github.io) \n",
    "#### Sandra Mierz; [https://github.com/smierz](https://github.com/smierz) \n",
    "---\n",
    "\n",
    "<div style='background:#e7edf7'>\n",
    "    This notebook will query the OpenAlex API get a set of publications, pull the cited references in the bibliographies, and answer the questions:\n",
    "    <blockquote>\n",
    "        <b><i>How many articles to do our authors cite? When were those articles published? How recent are they?</i></b>\n",
    "    </blockquote>\n",
    "   </div>\n",
    "\n",
    " \n",
    "**Context**\n",
    "\n",
    "We would like to better understand how campus researchers use journal content. Analyzing which years our authors cite and how many papers they cite gives us a better feel for how content is being used. We can use this information as we make journal cancellation and renewal decisions.\n",
    "\n",
    "- ~~**Part 1**. Pull the Data from OpenAlex API~~\n",
    "- **Part 2**. Plot the Data\n",
    " - **2.1**. Number of references\n",
    " - **2.2**. Years of references"
   ]
  },
  {
   "cell_type": "markdown",
   "id": "22a8ec76-1d6a-4e1f-95af-0c7eed4da49f",
   "metadata": {
    "id": "1aa86a40"
   },
   "source": [
    "---\n",
    "# Part 2. Explore the Data\n",
    "### This assumes you have already run the OpenAlex API to collect publication and reference records, saved in \n",
    "- publications.csv\n",
    "- pub2ref.csv\n",
    "- references.csv"
   ]
  },
  {
   "cell_type": "code",
   "execution_count": 6,
   "id": "9ada3254-8e10-484c-a302-026045cd92b9",
   "metadata": {},
   "outputs": [],
   "source": [
    "import pandas as pd\n",
    "import requests\n",
    "import plotly.express as px\n",
    "import datetime"
   ]
  }
 ],
 "metadata": {
  "kernelspec": {
   "display_name": "Python 3 (ipykernel)",
   "language": "python",
   "name": "python3"
  },
  "language_info": {
   "codemirror_mode": {
    "name": "ipython",
    "version": 3
   },
   "file_extension": ".py",
   "mimetype": "text/x-python",
   "name": "python",
   "nbconvert_exporter": "python",
   "pygments_lexer": "ipython3",
   "version": "3.10.4"
  }
 },
 "nbformat": 4,
 "nbformat_minor": 5
}
