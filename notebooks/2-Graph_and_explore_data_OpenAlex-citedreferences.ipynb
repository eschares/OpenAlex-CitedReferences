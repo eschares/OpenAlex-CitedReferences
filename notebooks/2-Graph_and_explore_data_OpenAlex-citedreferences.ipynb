{
 "cells": [
  {
   "cell_type": "markdown",
   "id": "a39b05a7-2ab6-4a23-b810-eb32c88b9163",
   "metadata": {
    "id": "bbc4bdcc"
   },
   "source": [
    "# OpenAlex Cited References\n",
    "### [STI 2023](https://www.sti2023.org/) Conference - Leiden, Netherlands, September 27-29, 2023\n",
    "#### Eric Schares, Iowa State University; [eschares.github.io](eschares.github.io) \n",
    "#### Sandra Mierz; [https://github.com/smierz](https://github.com/smierz) \n",
    "---"
   ]
  },
  {
   "cell_type": "markdown",
   "id": "22a8ec76-1d6a-4e1f-95af-0c7eed4da49f",
   "metadata": {
    "id": "1aa86a40"
   },
   "source": [
    "## Part 2: Graph and explore Citation Data\n",
    "In this notebook, we will sort through the publication and reference records we collected from OpenAlex in Part 1.\n",
    "\n",
    "### This notebook expects the following files:\n",
    "- /files/publications.csv\n",
    "- /files/pub2ref.csv\n",
    "- /files/references.csv or .parquet (smaller file size)"
   ]
  },
  {
   "cell_type": "code",
   "execution_count": null,
   "id": "9ada3254-8e10-484c-a302-026045cd92b9",
   "metadata": {},
   "outputs": [],
   "source": [
    "# needed dependencies\n",
    "import pandas as pd\n",
    "import plotly.express as px\n",
    "import pyarrow"
   ]
  },
  {
   "cell_type": "markdown",
   "id": "395959c0",
   "metadata": {},
   "source": [
    "---\n",
    "### 1. Load the publications, references, and connecting data we obtained from Part 1\n",
    "\n",
    "First we need to load the data. By default, Part 1 saved this in a folder called `files`.\n",
    "\n",
    "There are two file types:\n",
    "* `.csv`, or comma separated value. These are human readable and can be opened in programs like Excel, but filesizes can become large\n",
    "* `.parquet`. These are not human readable or able to be opened in Excel, but the filesizes are smaller and more efficient\n",
    "\n",
    "We use the `.parquet` file type when saving off the `references` information. For comparison, in our example `references.csv` would be 29MB, while `references.parquet` is less than half the size, at 13MB."
   ]
  },
  {
   "cell_type": "code",
   "execution_count": null,
   "id": "0a9dbfea-d5b7-465a-88d9-ea0d983afa7b",
   "metadata": {
    "colab": {
     "base_uri": "https://localhost:8080/",
     "height": 887
    },
    "id": "OtiLFL6Ke9iR",
    "outputId": "acba39d0-4f9e-4f54-cbb5-ffed1e556fb8"
   },
   "outputs": [],
   "source": [
    "# Load one year's worth of data\n",
    "pubs_df = pd.read_csv('../files/ISU_2021_fullyear/publications.csv')\n",
    "pub2ref_df = pd.read_csv('../files/ISU_2021_fullyear/pub2ref.csv')\n",
    "\n",
    "#refs_df = pd.read_csv('../files/ISU_2021_fullyear/references.csv')\n",
    "refs_df = pd.read_parquet('../files/ISU_2021_fullyear/references.parquet')"
   ]
  },
  {
   "cell_type": "markdown",
   "id": "ca5728ec",
   "metadata": {},
   "source": [
    "#### Joining\n",
    "Join the tables on id fields. This is why we needed to keep unique OpenAlex IDs in Part 1. First drop duplicate pubs and refs..."
   ]
  },
  {
   "cell_type": "code",
   "execution_count": null,
   "id": "7a9be7ca",
   "metadata": {
    "colab": {
     "base_uri": "https://localhost:8080/",
     "height": 887
    },
    "id": "OtiLFL6Ke9iR",
    "outputId": "acba39d0-4f9e-4f54-cbb5-ffed1e556fb8"
   },
   "outputs": [],
   "source": [
    "### prerequisite for joining: no duplicates in publications or references !\n",
    "\n",
    "pubs_df.drop_duplicates(inplace=True)\n",
    "refs_df.drop_duplicates(inplace=True)"
   ]
  },
  {
   "cell_type": "markdown",
   "id": "6d1dc7c3",
   "metadata": {},
   "source": [
    "Then take the `pub2ref` crosswalk file and add repeated information about the parent pub to the right side\n",
    "\n",
    "The first two columns are `pub2ref`, rest are from `pubs_df`.\n",
    "\n",
    "Repeat the parent information over and over so we can keep track of what publication cited what reference"
   ]
  },
  {
   "cell_type": "code",
   "execution_count": null,
   "id": "f4991ae7-4196-4a6f-bd47-7e9ec6536010",
   "metadata": {
    "colab": {
     "base_uri": "https://localhost:8080/",
     "height": 887
    },
    "id": "OtiLFL6Ke9iR",
    "outputId": "acba39d0-4f9e-4f54-cbb5-ffed1e556fb8"
   },
   "outputs": [],
   "source": [
    "df = pub2ref_df.join(pubs_df.set_index('publication_id'), on='publication_id')\n",
    "df.head(3)"
   ]
  },
  {
   "cell_type": "markdown",
   "id": "9d7fa5cd-e20d-4ebe-ad3e-47d7e4143f8e",
   "metadata": {},
   "source": [
    "A little more pre-processing (rearranging columns, calculating the year delta), and we're ready to investigate!"
   ]
  },
  {
   "cell_type": "code",
   "execution_count": null,
   "id": "61213c77-34c5-4ca5-ad46-a90c291ce71c",
   "metadata": {
    "colab": {
     "base_uri": "https://localhost:8080/",
     "height": 887
    },
    "id": "OtiLFL6Ke9iR",
    "outputId": "acba39d0-4f9e-4f54-cbb5-ffed1e556fb8"
   },
   "outputs": [],
   "source": [
    "#rearrange some things\n",
    "pub_id_col = df.pop('reference_id') # move reference_id column to end\n",
    "df['reference_id'] = pub_id_col     # move reference_id column to end\n",
    "\n",
    "# bring in reference information for each row\n",
    "df = df.join(refs_df.set_index('reference_id'), on='reference_id')\n",
    "\n",
    "# Calculate the year delta, or how many years old a reference was when it got cited\n",
    "df['year_delta'] = df['publication_year'] - df['reference_year']\n",
    "df.head(3)"
   ]
  },
  {
   "cell_type": "code",
   "execution_count": null,
   "id": "e186dc1c-e2db-416d-bf70-e83c80189959",
   "metadata": {},
   "outputs": [],
   "source": [
    "# Save combined table\n",
    "# Optional, may be a large file, turn on if wanted\n",
    "\n",
    "#df.to_csv('../files/combined.csv')"
   ]
  },
  {
   "cell_type": "markdown",
   "id": "e22c69ae-ac41-442e-a119-e4e1302b8ad4",
   "metadata": {},
   "source": [
    "### 2. Basic stats about dataframe\n",
    "\n",
    "Now our data is loaded in. Let's get some basic information:"
   ]
  },
  {
   "cell_type": "code",
   "execution_count": null,
   "id": "74931f66",
   "metadata": {},
   "outputs": [],
   "source": [
    "print(f\"This dataset contains {pubs_df.shape[0]} publications and their {df.shape[0]} cited references.\")"
   ]
  },
  {
   "cell_type": "code",
   "execution_count": null,
   "id": "26a31039-1f9c-4e53-9c36-2334bad11b6b",
   "metadata": {},
   "outputs": [],
   "source": [
    "# rows and columns of the combined dataset\n",
    "df.shape"
   ]
  },
  {
   "cell_type": "code",
   "execution_count": null,
   "id": "57897e1d-5fb8-4afa-b8f2-ac94e2235f43",
   "metadata": {},
   "outputs": [],
   "source": [
    "# summary statistics by column\n",
    "df.describe()"
   ]
  },
  {
   "cell_type": "code",
   "execution_count": null,
   "id": "f71ebc3f-80db-476e-93dc-bcfc0525e122",
   "metadata": {
    "colab": {
     "base_uri": "https://localhost:8080/",
     "height": 832
    },
    "id": "hM_hRf5WhDcg",
    "outputId": "66413e58-6c89-4369-f78f-928a91e11266"
   },
   "outputs": [],
   "source": [
    "# table with multiindex - connection pub to ref visualized\n",
    "df_grouped = df.set_index(['publication_id',\n",
    "                            'publication_doi',\n",
    "                            'publication_year',\n",
    "                            'publication_title',\n",
    "                            'publication_journal',\n",
    "                            'publication_publisher',\n",
    "                            'publication_journal_issn',\n",
    "                            'num_cited_references',\n",
    "                            'reference_id'])\n",
    "df_grouped.head(3)"
   ]
  },
  {
   "cell_type": "markdown",
   "id": "c3991c7d-c210-4aa2-83c9-7448043630db",
   "metadata": {
    "id": "915db9f0"
   },
   "source": [
    "---\n",
    "### 3. Look at publication (\"parent\") data\n",
    "\n",
    "Let's look at the publications we pulled, and sort them by the number of references they contain. You may have to scroll all the way to the right to see the number of references."
   ]
  },
  {
   "cell_type": "code",
   "execution_count": null,
   "id": "837cd023",
   "metadata": {
    "colab": {
     "base_uri": "https://localhost:8080/",
     "height": 835
    },
    "id": "f3f4047a",
    "outputId": "ebba87a2-cdcc-43e5-ce1d-40a6adb24c15"
   },
   "outputs": [],
   "source": [
    "pubs_df = pubs_df.sort_values(by='num_cited_references', ascending=False)\n",
    "pubs_df = pubs_df.reset_index(drop=True)\n",
    "pubs_df.head(3)"
   ]
  },
  {
   "cell_type": "markdown",
   "id": "7b1a9d16",
   "metadata": {},
   "source": [
    "Wow, one publication has 4,075 cited references!"
   ]
  },
  {
   "cell_type": "markdown",
   "id": "e3a0a8c5-a23b-4466-85ca-a42c5a129738",
   "metadata": {},
   "source": [
    "### Average and median number of references per paper\n",
    "\n",
    "Let's look more systematically at the number of references per paper"
   ]
  },
  {
   "cell_type": "code",
   "execution_count": null,
   "id": "4480bfc3-c93f-4e3a-a87e-bcff68d37538",
   "metadata": {},
   "outputs": [],
   "source": [
    "pubs_df.describe()"
   ]
  },
  {
   "cell_type": "markdown",
   "id": "7f7bee6e",
   "metadata": {},
   "source": [
    "We can see that 4,075 number is the max count of references in our dataset. We can also see the 75%, 50%, and 25% quantile counts."
   ]
  },
  {
   "cell_type": "code",
   "execution_count": null,
   "id": "a9d1c8d0",
   "metadata": {
    "colab": {
     "base_uri": "https://localhost:8080/"
    },
    "id": "fd1fdf60",
    "outputId": "b5fd42f6-cc7d-4f5f-8977-5c8e6385277e"
   },
   "outputs": [],
   "source": [
    "# Number of references in each unique paper\n",
    "df['publication_doi'].value_counts()"
   ]
  },
  {
   "cell_type": "markdown",
   "id": "a9f920af",
   "metadata": {},
   "source": [
    "After 4,075, the next highest number of references is 505.\n",
    "\n",
    "---\n",
    "Let's count the papers by number of references:"
   ]
  },
  {
   "cell_type": "code",
   "execution_count": null,
   "id": "545ea4e2",
   "metadata": {},
   "outputs": [],
   "source": [
    "pubs_df['num_cited_references'].value_counts().sort_index()"
   ]
  },
  {
   "cell_type": "markdown",
   "id": "de121027",
   "metadata": {},
   "source": [
    "Hmmm, that's interesting...almost 400 papers in this dataset have **no** reported references!"
   ]
  },
  {
   "cell_type": "markdown",
   "id": "ace96acd-8f11-4c50-8ae3-b4bdf5d12db4",
   "metadata": {},
   "source": [
    "### 4. Look at the 0 reference papers\n",
    "\n",
    "OpenAlex reports 0 references for some papers, even though manual investigation shows there are references there. \n",
    "\n",
    "This is because not all publishers make their reference data openly available. OpenAlex is only able to report on references it knows about. See the **Initiative for Open Citations** [I4OC](https://i4oc.org/) for more information."
   ]
  },
  {
   "cell_type": "code",
   "execution_count": null,
   "id": "94987abf-c41e-4ac5-baf8-6015a64e1f7b",
   "metadata": {},
   "outputs": [],
   "source": [
    "# number of publications with 0 reported references\n",
    "pubs_df.loc[pubs_df['num_cited_references']==0].shape[0]"
   ]
  },
  {
   "cell_type": "code",
   "execution_count": null,
   "id": "b7261690-1361-499b-ba8a-ac7a1240c3b6",
   "metadata": {},
   "outputs": [],
   "source": [
    "# percentage of publications with 0 reported references\n",
    "print(f\"{(pubs_df.loc[pubs_df['num_cited_references']==0].shape[0] / pubs_df.shape[0])*100:.2f}% of publications in this set have 0 references reported\")"
   ]
  },
  {
   "cell_type": "markdown",
   "id": "19542394-f92b-42a6-b194-b81b8618e570",
   "metadata": {
    "id": "3d997bce"
   },
   "source": [
    "---\n",
    "Time to start making some graphs. Let's add color coding so we can tell what's going on more easily."
   ]
  },
  {
   "cell_type": "code",
   "execution_count": null,
   "id": "a51bb05f-9353-4a27-a6e5-7fccd115fc60",
   "metadata": {
    "id": "7432c18d"
   },
   "outputs": [],
   "source": [
    "# make all numbers same color except for 0 references\n",
    "color_dict = {num:'blue' for num in pubs_df['num_cited_references'] if num != 0}\n",
    "color_dict[0]='lightgray'"
   ]
  },
  {
   "cell_type": "markdown",
   "id": "37777698",
   "metadata": {},
   "source": [
    "Plot a histogram of the number of references a paper has.\n",
    "\n",
    "The one paper with 4,075 references will skew this plot way to the right, but we can also see the number of 0 reference papers, stacked on the 0 bin and colored light gray."
   ]
  },
  {
   "cell_type": "code",
   "execution_count": null,
   "id": "b83aa698-72e5-4820-8485-7868acb13efc",
   "metadata": {
    "colab": {
     "base_uri": "https://localhost:8080/",
     "height": 562
    },
    "id": "a3a46daa",
    "outputId": "0da05fbf-8b1f-4659-97ba-b77805338763"
   },
   "outputs": [],
   "source": [
    "fig = px.histogram(pubs_df, x='num_cited_references', nbins=50,\n",
    "             color='num_cited_references',\n",
    "             color_discrete_map=color_dict,\n",
    "             title=f'Histogram of the Number of Cited References in {pubs_df.shape[0]} Publications<br>Num_references=0 shown in light gray'\n",
    ")\n",
    "fig.update_layout(showlegend=False)"
   ]
  },
  {
   "cell_type": "markdown",
   "id": "6f6ca5b6",
   "metadata": {},
   "source": [
    "Now let's plot the same data, but as a cumulative distribution function. Again, the large outlier skews the data to the right.\n",
    "\n",
    "The good news is, **these plots are all interactive**! You can click and drag a box to zoom in on an area of interest, or pan around by dragging on the axes.\n",
    "\n",
    "Try zooming in on the range from 0-300 to see what's going on more clearly.\n",
    "\n",
    "Double click anywhere on the plot to reset the view."
   ]
  },
  {
   "cell_type": "code",
   "execution_count": null,
   "id": "f8f6a85f-1f2d-4b54-840b-1648a33b0fb7",
   "metadata": {
    "colab": {
     "base_uri": "https://localhost:8080/",
     "height": 562
    },
    "id": "218d9cee",
    "outputId": "87f89706-72fc-49a4-eaa9-627d4a069763"
   },
   "outputs": [],
   "source": [
    "px.ecdf(pubs_df, x='num_cited_references', ecdfnorm='percent',\n",
    "       title=f'Cumulative Distribution of the Number of Cited References in {pubs_df.shape[0]} Publications')"
   ]
  },
  {
   "cell_type": "markdown",
   "id": "d5ef1161-35f2-4be2-af08-f07de6d7a98b",
   "metadata": {},
   "source": [
    "#### Remove publications with 0 reported references\n",
    "Since we have some publications that report no references, let's remove them from our analysis.\n",
    "\n",
    "We can create another dataframe that matches the criteria of `num_cited_references` not equal to 0."
   ]
  },
  {
   "cell_type": "code",
   "execution_count": null,
   "id": "69b8307f-6c3f-461c-94a6-f2be07b5eeb6",
   "metadata": {
    "colab": {
     "base_uri": "https://localhost:8080/",
     "height": 835
    },
    "id": "b209923a",
    "outputId": "097c423d-3931-44d0-837d-07c029a85c2f"
   },
   "outputs": [],
   "source": [
    "pubs_df_no_zeros = pubs_df.loc[pubs_df['num_cited_references']!=0]\n",
    "pubs_df_no_zeros.head(3)"
   ]
  },
  {
   "cell_type": "markdown",
   "id": "76d00526",
   "metadata": {},
   "source": [
    "The statistics of this new dataframe should not show 0 references anywhere. And indeed, we see that the `min` is now 1!"
   ]
  },
  {
   "cell_type": "code",
   "execution_count": null,
   "id": "ccb4f4a6-277e-48c6-baca-6af0ba5faa01",
   "metadata": {
    "colab": {
     "base_uri": "https://localhost:8080/",
     "height": 364
    },
    "id": "e4aae460",
    "outputId": "64e00eb9-fc43-4d92-aa56-4b2ef13a44a6"
   },
   "outputs": [],
   "source": [
    "pubs_df_no_zeros.describe()"
   ]
  },
  {
   "cell_type": "markdown",
   "id": "db748835",
   "metadata": {},
   "source": [
    "Plot the same two graphs again, only this time you should see **no** gray boxes since we removed those 0 reference results."
   ]
  },
  {
   "cell_type": "code",
   "execution_count": null,
   "id": "238be1c8-0079-4fc0-90c7-ba2e9971992e",
   "metadata": {
    "colab": {
     "base_uri": "https://localhost:8080/",
     "height": 562
    },
    "id": "eefe8383",
    "outputId": "3d0305a8-204c-411e-965a-e205e8311fe0"
   },
   "outputs": [],
   "source": [
    "px.histogram(pubs_df_no_zeros, x='num_cited_references', nbins=50,\n",
    "             text_auto=True,\n",
    "             title=f'Histogram of the Number of Cited References in {pubs_df_no_zeros.shape[0]} Publications<br>Num_references=0 *removed*')"
   ]
  },
  {
   "cell_type": "code",
   "execution_count": null,
   "id": "51d738aa-25d0-49f1-a616-908b8e5abf53",
   "metadata": {
    "colab": {
     "base_uri": "https://localhost:8080/",
     "height": 562
    },
    "id": "317a71ce",
    "outputId": "9e251ebe-629d-4c73-8043-0ab936d0b9e9"
   },
   "outputs": [],
   "source": [
    "px.ecdf(pubs_df_no_zeros, x='num_cited_references', ecdfnorm='percent',\n",
    "       title=f'Cumulative Distribution of the Number of Cited References in {pubs_df_no_zeros.shape[0]} Publications<br>Num_references=0 *removed*',\n",
    "       width=750)\n",
    "\n"
   ]
  },
  {
   "cell_type": "markdown",
   "id": "430b2bda",
   "metadata": {},
   "source": [
    "---\n",
    "### 5. What journals were cited by these publications?\n",
    "\n",
    "Let's start looking more deeply at the cited references themselves.\n",
    "\n",
    "In this dataset, 11,541 unique journals were cited 142,135 times. Why is that number different from the 142,961 total we saw earlier? 826 records have the journal name blank!"
   ]
  },
  {
   "cell_type": "code",
   "execution_count": null,
   "id": "f322be5e",
   "metadata": {},
   "outputs": [],
   "source": [
    "# Number of journals\n",
    "df['reference_journal'].describe()"
   ]
  },
  {
   "cell_type": "markdown",
   "id": "82ab42d0",
   "metadata": {},
   "source": [
    "How does that break down by journal title?"
   ]
  },
  {
   "cell_type": "code",
   "execution_count": null,
   "id": "5ea36ad8",
   "metadata": {},
   "outputs": [],
   "source": [
    "journal_counts = df.value_counts(['reference_journal', 'reference_publisher'])\n",
    "journal_counts = journal_counts.to_frame().reset_index().rename(columns= {0: 'citations', 'reference_journal' : 'title'})\n",
    "journal_counts.index.name = 'index'\n",
    "\n",
    "# Top 10 most cited journals\n",
    "journal_counts.head(10)"
   ]
  },
  {
   "cell_type": "markdown",
   "id": "19254bde",
   "metadata": {},
   "source": [
    "Save the top 10 journal counts out to a file"
   ]
  },
  {
   "cell_type": "code",
   "execution_count": null,
   "id": "e655f323",
   "metadata": {},
   "outputs": [],
   "source": [
    "journal_counts.head(10).to_csv(\"../files/ISU_2021_fullyear/journal_counts.csv\")"
   ]
  },
  {
   "cell_type": "markdown",
   "id": "91edd54a",
   "metadata": {},
   "source": [
    "Create a bar chart of the top 50 cited journals by number, organized by publisher>"
   ]
  },
  {
   "cell_type": "code",
   "execution_count": null,
   "id": "e6a19778",
   "metadata": {},
   "outputs": [],
   "source": [
    "px.bar(journal_counts[:50], \n",
    "       x=\"title\", y=\"citations\", color=\"reference_publisher\",\n",
    "       height=900,\n",
    "       color_discrete_sequence=px.colors.qualitative.Set1,\n",
    "       title=f\"Top 50 journals cited in this set, by Title and Publisher\")"
   ]
  },
  {
   "cell_type": "markdown",
   "id": "636d07ef",
   "metadata": {},
   "source": [
    "If you have a specific journal of interest, we can look at *when* the journal was cited? Do our researchers use current material from this journal, or older material?\n",
    "\n",
    "Let's look at *Physical Review Letters* as an example. We can see from the table above it was the 6th most cited journal, with 1214 references in this set."
   ]
  },
  {
   "cell_type": "code",
   "execution_count": null,
   "id": "d84a5a42",
   "metadata": {},
   "outputs": [],
   "source": [
    "tracked_journal = \"Physical Review Letters\"\n",
    "\n",
    "filt = (df['reference_journal']==tracked_journal)\n",
    "df.loc[filt,'reference_year'].shape"
   ]
  },
  {
   "cell_type": "code",
   "execution_count": null,
   "id": "a41edc44",
   "metadata": {},
   "outputs": [],
   "source": [
    "df_one_journal = df.loc[filt,['reference_journal','reference_year']]\n",
    "df_one_journal"
   ]
  },
  {
   "cell_type": "code",
   "execution_count": null,
   "id": "77fd030c",
   "metadata": {},
   "outputs": [],
   "source": [
    "fig_one_journal = px.histogram(df_one_journal, x=\"reference_year\", nbins=400, \n",
    "             title=f\"Histogram of {df_one_journal.shape[0]} Cited References from {tracked_journal}\",\n",
    "                              width=650)\n",
    "\n",
    "fig_one_journal['layout']['xaxis']['autorange'] = \"reversed\"\n",
    "\n",
    "fig_one_journal"
   ]
  },
  {
   "cell_type": "markdown",
   "id": "0cdaa16c",
   "metadata": {},
   "source": [
    "Looks like most references were to material from 2021-1996, with few references to pre-1996 content.\n",
    "\n",
    "We could also look at CDF curves for some top journal titles."
   ]
  },
  {
   "cell_type": "code",
   "execution_count": null,
   "id": "c31a4914",
   "metadata": {},
   "outputs": [],
   "source": [
    "journal_list = journal_counts['title'].head(8)\n",
    "\n",
    "journal_list"
   ]
  },
  {
   "cell_type": "markdown",
   "id": "db47d9c9-ddd0-458d-8a09-0c637422fb02",
   "metadata": {},
   "source": [
    "If a row has `reference_journal` of one of the top 8 titles, keep it an build a new dataframe, `top_journals_by_year`. Then we shorten the journal names since some are very long and mess with the way the legend displays.\n",
    "\n",
    "You might see a pink warning box when running this cell. That is okay."
   ]
  },
  {
   "cell_type": "code",
   "execution_count": null,
   "id": "688974e8",
   "metadata": {},
   "outputs": [],
   "source": [
    "top_journals_by_year = df[df['reference_journal'].isin(journal_list)]\n",
    "\n",
    "top_journals_by_year['reference_journal_short_name'] = [x[:47] for x in top_journals_by_year['reference_journal']]\n",
    "\n",
    "fig_top_journals_by_year = px.ecdf(top_journals_by_year, x='reference_year', ecdfnorm='percent',markers=True, lines=False,\n",
    "        color_discrete_sequence=px.colors.qualitative.Set1,\n",
    "        color = 'reference_journal_short_name',\n",
    "        title=f'8 most cited journals, by year published',\n",
    "        width=950, height=600\n",
    ")\n",
    "fig_top_journals_by_year['layout']['xaxis']['autorange'] = \"reversed\"\n",
    "\n",
    "fig_top_journals_by_year.update_layout(legend=dict(\n",
    "    yanchor=\"top\",\n",
    "    y=0.99,\n",
    "    xanchor=\"left\",\n",
    "    x=0.56\n",
    "))\n",
    "\n",
    "fig_top_journals_by_year.show()"
   ]
  },
  {
   "cell_type": "markdown",
   "id": "a3cd38be-e42e-474f-b6d1-d88c5549ec47",
   "metadata": {},
   "source": [
    "We can see three titles (PLOS ONE, Nature Communications, and Scientific Reports) are not referenced prior to ~2006. These are newer journals, and didn't exist during those years!\n",
    "\n",
    "Physical Review Letteers is in brown, and you can see the large jump at 1996.\n",
    "\n",
    "Journal of ACS (pink) has the highest tail, meaning more material in that journal was cited from older years. If you hover on 1980, for example, 8.3% of the references to this journal were from 1980 or older."
   ]
  },
  {
   "cell_type": "markdown",
   "id": "5f4bc18a",
   "metadata": {},
   "source": [
    "---\n",
    "### 6. What publishers were cited?\n",
    "Now roll up the journal titles into publisher groups. We have 139,817 records with a publisher filled in, and 1,381 of those are unique."
   ]
  },
  {
   "cell_type": "code",
   "execution_count": null,
   "id": "a11d36d1",
   "metadata": {},
   "outputs": [],
   "source": [
    "# Number of publishers\n",
    "df['reference_publisher'].describe()"
   ]
  },
  {
   "cell_type": "markdown",
   "id": "4fa9fe02",
   "metadata": {},
   "source": [
    "Group by publisher name, and organize by number of citations and percentage of this dataset's total."
   ]
  },
  {
   "cell_type": "code",
   "execution_count": null,
   "id": "a08dfc3c",
   "metadata": {},
   "outputs": [],
   "source": [
    "publisher_counts = df.value_counts(['reference_publisher'])\n",
    "publisher_counts = publisher_counts.to_frame().reset_index().rename(columns= {0: 'citations'})\n",
    "publisher_counts.index.name = 'index'\n",
    "publisher_counts['percentage'] = (publisher_counts['citations'] / df.shape[0]) * 100\n",
    "\n",
    "#preview\n",
    "publisher_counts.head(20)"
   ]
  },
  {
   "cell_type": "markdown",
   "id": "f7b963a0",
   "metadata": {},
   "source": [
    "Plot by counts (a) and percentage (b)."
   ]
  },
  {
   "cell_type": "code",
   "execution_count": null,
   "id": "d916ea2c",
   "metadata": {},
   "outputs": [],
   "source": [
    "px.histogram(publisher_counts[:20], \n",
    "       x=\"reference_publisher\", y=\"citations\", color=\"reference_publisher\", text_auto=True,\n",
    "       height=900,\n",
    "       title=f\"Publishers cited in this set\")"
   ]
  },
  {
   "cell_type": "code",
   "execution_count": null,
   "id": "7829c829",
   "metadata": {},
   "outputs": [],
   "source": [
    "px.histogram(publisher_counts[:20], \n",
    "       x=\"reference_publisher\", y=\"percentage\", color=\"reference_publisher\",\n",
    "       height=900,\n",
    "       title=f\"Publishers cited in this set\")"
   ]
  },
  {
   "cell_type": "markdown",
   "id": "76d8324d",
   "metadata": {},
   "source": [
    "---\n",
    "### 7. What articles were cited?\n",
    "Let's now turn to look at the individual articles themselves. We have 142,496 records, of whic 123,381 are unique. The most frequent article was cited 59 times in this dataset."
   ]
  },
  {
   "cell_type": "code",
   "execution_count": null,
   "id": "dde547a4",
   "metadata": {},
   "outputs": [],
   "source": [
    "# Number of articles\n",
    "df['reference_title'].describe()"
   ]
  },
  {
   "cell_type": "markdown",
   "id": "d2ade7a9",
   "metadata": {},
   "source": [
    "Expand beyond the most frequent article, to show the top 10 most cited articles."
   ]
  },
  {
   "cell_type": "code",
   "execution_count": null,
   "id": "3527d435",
   "metadata": {},
   "outputs": [],
   "source": [
    "article_counts = df.value_counts(['reference_doi', 'reference_title', 'reference_journal'])\n",
    "article_counts = article_counts.to_frame().reset_index().rename(columns= {0: 'citations', 'reference_title' : 'reference_title'})\n",
    "article_counts.index.name = 'index'\n",
    "\n",
    "#preview\n",
    "article_counts.head(10)"
   ]
  },
  {
   "cell_type": "markdown",
   "id": "8c917f62-19a6-4efa-857e-588478433281",
   "metadata": {
    "id": "b9a2d08e"
   },
   "source": [
    "---\n",
    "#### What years were those referenced articles published?"
   ]
  },
  {
   "cell_type": "markdown",
   "id": "15f8a9dc-1dc6-446b-b893-219d4eab26ce",
   "metadata": {
    "id": "712fdbaf"
   },
   "source": [
    "The oldest reference in this dataset is from 1690!"
   ]
  },
  {
   "cell_type": "code",
   "execution_count": null,
   "id": "f9e41273-cd4e-421d-beac-c1dacaff9822",
   "metadata": {
    "colab": {
     "base_uri": "https://localhost:8080/",
     "height": 197
    },
    "id": "e13dac85",
    "outputId": "01b24a70-1d06-4fce-e19a-6e2ab7889a68"
   },
   "outputs": [],
   "source": [
    "df.loc[df['reference_year']==df['reference_year'].min()]"
   ]
  },
  {
   "cell_type": "code",
   "execution_count": null,
   "id": "350e5205-43e2-45e2-bca2-f726c33830b7",
   "metadata": {
    "colab": {
     "base_uri": "https://localhost:8080/",
     "height": 197
    },
    "id": "e13dac85",
    "outputId": "01b24a70-1d06-4fce-e19a-6e2ab7889a68"
   },
   "outputs": [],
   "source": [
    "df.loc[df['reference_year']==df['reference_year'].min()]['reference_year']"
   ]
  },
  {
   "cell_type": "markdown",
   "id": "0e3a0a7c-0acd-4a29-a733-e4ea6e54f1a4",
   "metadata": {
    "id": "156b44f2"
   },
   "source": [
    "Look at the year the references were published, **by count:**"
   ]
  },
  {
   "cell_type": "code",
   "execution_count": null,
   "id": "36315c52-7990-4af5-a7bc-82b735d193dd",
   "metadata": {
    "colab": {
     "base_uri": "https://localhost:8080/",
     "height": 562
    },
    "id": "ca6b79e1",
    "outputId": "d9bb144b-7d57-412e-ba3d-57f8170963bf"
   },
   "outputs": [],
   "source": [
    "fig_years_count = px.histogram(df, x='reference_year', nbins=400, \n",
    "             title=f'Histogram of Cited Year<br>{pubs_df.shape[0]} Publications and {df.shape[0]} References')\n",
    "\n",
    "fig_years_count['layout']['xaxis']['autorange'] = \"reversed\"\n",
    "\n",
    "fig_years_count"
   ]
  },
  {
   "cell_type": "markdown",
   "id": "17ed4750",
   "metadata": {},
   "source": [
    "...by **percentage** (remember, you can click and drag a box to zoom in)"
   ]
  },
  {
   "cell_type": "code",
   "execution_count": null,
   "id": "b2549bf9-1908-4c7f-b94e-1cbb9b4817b0",
   "metadata": {
    "colab": {
     "base_uri": "https://localhost:8080/",
     "height": 562
    },
    "id": "195044fc",
    "outputId": "1b31585e-5510-4eae-b679-42b7478c8243"
   },
   "outputs": [],
   "source": [
    "fig_years_prob = px.histogram(df, x='reference_year', nbins=400, histnorm='probability density',\n",
    "            title=f'Probability Density of the Cited Year<br>{pubs_df.shape[0]} Publications and {df.shape[0]} References<br>Zoom in')\n",
    "\n",
    "fig_years_prob['layout']['xaxis']['autorange'] = \"reversed\"\n",
    "\n",
    "fig_years_prob.show()"
   ]
  },
  {
   "cell_type": "markdown",
   "id": "37122c0b",
   "metadata": {},
   "source": [
    "...or by **cumulative distribution.**"
   ]
  },
  {
   "cell_type": "code",
   "execution_count": null,
   "id": "19c7c82e-efa0-4663-aba0-7faa655f9816",
   "metadata": {
    "colab": {
     "base_uri": "https://localhost:8080/",
     "height": 562
    },
    "id": "701a265c",
    "outputId": "0fe79373-09c7-4fee-961a-198d638a16c4"
   },
   "outputs": [],
   "source": [
    "fig_years_cdf = px.ecdf(df, x='reference_year', ecdfnorm='percent',markers=True, lines=False,\n",
    "        color_discrete_map={'red':'red', 'blue':'blue'},\n",
    "       title=f'Cumulative Distribution of Year of Citation<br>{df.shape[0]} references'\n",
    ")\n",
    "fig_years_cdf['layout']['xaxis']['autorange'] = \"reversed\"\n",
    "\n",
    "fig_years_cdf.update_layout(showlegend=False)"
   ]
  },
  {
   "cell_type": "markdown",
   "id": "00eeefd2-a82c-45d2-8c1f-2729a0cc6cd3",
   "metadata": {
    "id": "5f84880e"
   },
   "source": [
    "---\n",
    "### 8. Track one publication of interest and its references"
   ]
  },
  {
   "cell_type": "markdown",
   "id": "cb577690-a7b4-449c-b55c-f396ce79daef",
   "metadata": {
    "id": "610be472"
   },
   "source": [
    "Add the `color` column to control the colors. Set it to blue everywhere, then change it to red on records that match the DOI to track.\n",
    "\n",
    "In this example, I already know of an interesting DOI to track"
   ]
  },
  {
   "cell_type": "code",
   "execution_count": null,
   "id": "2ea89ee6-124c-44ea-928d-cf9b7455be63",
   "metadata": {
    "colab": {
     "base_uri": "https://localhost:8080/",
     "height": 1000
    },
    "id": "f83acaa1",
    "outputId": "71100b71-8c92-47c9-995e-3bf7a1cf5697"
   },
   "outputs": [],
   "source": [
    "# Change DOI in this line\n",
    "red_doi = 'https://doi.org/10.5252/adansonia2021v43a8'\n",
    "\n",
    "#https://doi.org/10.5252/adansonia2021v43a8   # publication with oldest average reference at 138 years\n",
    "#https://doi.org/10.1021/acs.accounts.0c00741 # random example\n",
    "#https://doi.org/10.1386/ijia_00033_1  - 0 average year, referenced 1 work, which is itself?\n",
    "\n",
    "df['color'] = 'blue'\n",
    "red_title = df.loc[df['publication_doi']==red_doi, 'publication_title'].iloc[0]\n",
    "red_title"
   ]
  },
  {
   "cell_type": "code",
   "execution_count": null,
   "id": "5e407c48-7faf-4f45-9446-ca9c5f95935d",
   "metadata": {
    "id": "037d6c98"
   },
   "outputs": [],
   "source": [
    "# Change color for that DOI to red\n",
    "filt = (df['publication_doi'] == red_doi)\n",
    "df.loc[filt,'color'] = 'red'"
   ]
  },
  {
   "cell_type": "markdown",
   "id": "5ea7eed0",
   "metadata": {},
   "source": [
    "Double check the number that you changed to red, should match the number of references in that DOI"
   ]
  },
  {
   "cell_type": "code",
   "execution_count": null,
   "id": "a3442d2b",
   "metadata": {
    "colab": {
     "base_uri": "https://localhost:8080/"
    },
    "id": "6e58a7f1",
    "outputId": "59d682c1-84f8-4203-af90-64e6488e472e"
   },
   "outputs": [],
   "source": [
    "# what does the color column contain?\n",
    "df['color'].value_counts()"
   ]
  },
  {
   "cell_type": "code",
   "execution_count": null,
   "id": "2b2ac319-dbc4-4d2a-85f7-e8982f1ac551",
   "metadata": {
    "colab": {
     "base_uri": "https://localhost:8080/"
    },
    "id": "6e58a7f1",
    "outputId": "59d682c1-84f8-4203-af90-64e6488e472e"
   },
   "outputs": [],
   "source": [
    "# how many got changed to red? This will show up in the plot title\n",
    "red_count = df[df['color']=='red']\n",
    "red_count.shape[0]"
   ]
  },
  {
   "cell_type": "code",
   "execution_count": null,
   "id": "6ad1ea92",
   "metadata": {},
   "outputs": [],
   "source": [
    "# how many references did your DOI have? These numbers should match\n",
    "filt = (df['publication_doi']==red_doi)\n",
    "df[filt].shape[0]"
   ]
  },
  {
   "cell_type": "markdown",
   "id": "7c26f1ca",
   "metadata": {},
   "source": [
    "Plot a histogram, though you probably won't be able to see the red blocks stacked on top of the blue columns very well."
   ]
  },
  {
   "cell_type": "code",
   "execution_count": null,
   "id": "fde9be0f-62f2-44c4-98fe-4949d7d74ec1",
   "metadata": {
    "colab": {
     "base_uri": "https://localhost:8080/",
     "height": 562
    },
    "id": "cb82d462",
    "outputId": "6edb59fe-5c75-426e-d3c8-5bb6c3c1fd7d"
   },
   "outputs": [],
   "source": [
    "fig_trackone_count = px.histogram(df, x='reference_year', color='color', nbins=200,\n",
    "             title=f'Years when Cited References were published<br>Red: \"{red_title}\"',\n",
    "             hover_data={'color':False,\n",
    "                         'reference_title':True},\n",
    "             color_discrete_map={'red':'red', 'blue':'blue'},\n",
    "             category_orders={\"color\":['blue','red']}\n",
    ")\n",
    "fig_trackone_count.update_layout(showlegend=False)\n",
    "fig_trackone_count['layout']['xaxis']['autorange'] = \"reversed\"\n",
    "\n",
    "fig_trackone_count.show()"
   ]
  },
  {
   "cell_type": "markdown",
   "id": "f8198484",
   "metadata": {},
   "source": [
    "Make a box plot, easier to see the red DOI, but very memory intensive and may slow your machine down. Included here if you want it."
   ]
  },
  {
   "cell_type": "code",
   "execution_count": null,
   "id": "8ebd6b93-646f-468b-8036-b56318f1e23a",
   "metadata": {
    "colab": {
     "base_uri": "https://localhost:8080/",
     "height": 562
    },
    "id": "b1b2b9ef",
    "outputId": "4b091722-9fb2-444d-e70a-384fbe0d4380",
    "tags": []
   },
   "outputs": [],
   "source": [
    "# fig_trackone_box = px.box(df, x='reference_year', points='all', color='color', notched=True,\n",
    "#        title=f'Years when Cited References were published<br>Red: \"{red_title}\"',\n",
    "#        hover_data={'color':False,\n",
    "#                     'reference_title':True,\n",
    "#                    'publication_year':True,      \n",
    "#                    'publication_title':True},\n",
    "#        color_discrete_map={'red':'red', 'blue':'blue'},\n",
    "#        category_orders={\"color\":['blue','red']}\n",
    "# )\n",
    "# fig_trackone_box.update_layout(showlegend=False)\n",
    "# fig_trackone_box['layout']['xaxis']['autorange'] = \"reversed\"\n",
    "\n",
    "# fig_trackone_box.show()"
   ]
  },
  {
   "cell_type": "markdown",
   "id": "8bed9356",
   "metadata": {},
   "source": [
    "Make a CDF plot (**my personal favorite way to look at this**)"
   ]
  },
  {
   "cell_type": "code",
   "execution_count": null,
   "id": "e430f516-b070-46a6-9f2c-94c52791a8df",
   "metadata": {
    "colab": {
     "base_uri": "https://localhost:8080/",
     "height": 562
    },
    "id": "7020d222",
    "outputId": "8196558d-ddab-483b-e954-4d44ef62ffb0"
   },
   "outputs": [],
   "source": [
    "fig_trackone_ecdf = px.ecdf(df, x='reference_year', color='color', ecdfnorm='percent',markers=True, lines=False,\n",
    "        color_discrete_map={'red':'red', 'blue':'blue'},\n",
    "               hover_data={'color':False,\n",
    "                    'reference_title':True,\n",
    "                   'reference_year':True},\n",
    "       title=f'Blue: Cumulative Distribution of Year for {df.shape[0] - red_count.shape[0]} references<br>Red: {red_count.shape[0]} references in \"{red_title}\"'\n",
    ")\n",
    "fig_trackone_ecdf.update_layout(showlegend=False, width=650)\n",
    "\n",
    "fig_trackone_ecdf['layout']['xaxis']['autorange'] = \"reversed\"\n",
    "\n",
    "fig_trackone_ecdf.show()"
   ]
  },
  {
   "cell_type": "markdown",
   "id": "96701937-c444-4a16-ac7f-ee0e1b491a6d",
   "metadata": {
    "id": "d4805cb0"
   },
   "source": [
    "---\n",
    "### 9. Year delta\n",
    "\n",
    "Look at the year delta, or how many years old a reference was when it got cited. This was calculated at the beginning of this notebook after the data load.\n",
    "\n",
    "This describes each individual journal article referenced in this set."
   ]
  },
  {
   "cell_type": "code",
   "execution_count": null,
   "id": "b2be375f-313a-4f9d-ae51-6713fda6c50c",
   "metadata": {
    "colab": {
     "base_uri": "https://localhost:8080/"
    },
    "id": "73584dbe",
    "outputId": "ad3dc1b0-9daa-4cdc-d426-c3bb2e36e1a4"
   },
   "outputs": [],
   "source": [
    "df['year_delta'].describe()"
   ]
  },
  {
   "cell_type": "markdown",
   "id": "f33e6807-5a8a-4896-a7f4-3d694fe70a0d",
   "metadata": {
    "id": "8365b035"
   },
   "source": [
    "Next, group by **publication**, get one number that shows the average age of its references, `avg_year_delta`."
   ]
  },
  {
   "cell_type": "code",
   "execution_count": null,
   "id": "b5e07942-87ec-496a-869e-3a519fe9d030",
   "metadata": {
    "colab": {
     "base_uri": "https://localhost:8080/",
     "height": 632
    },
    "id": "32835cd5",
    "outputId": "a00b2699-6cb1-4921-9e46-31675b2d721f"
   },
   "outputs": [],
   "source": [
    "#df2 = df.groupby('publication_title')['year_delta'].mean().to_frame(name='avg_year_delta')\n",
    "df2 = df.groupby(['publication_title']).agg(avg_year_delta=('year_delta', 'mean'), num_references=('reference_title', 'size')).reset_index()\n",
    "\n",
    "df2.sample(5)  # show 5 random results"
   ]
  },
  {
   "cell_type": "markdown",
   "id": "d4f40df1",
   "metadata": {},
   "source": [
    "Sort by the smallest average year delta. Interestingly, some publications have an **average year delta of 0**! This means the paper only cited articles from the same year as itself."
   ]
  },
  {
   "cell_type": "code",
   "execution_count": null,
   "id": "8fd17406-b1fd-4241-80b8-bc0b032c3877",
   "metadata": {
    "colab": {
     "base_uri": "https://localhost:8080/",
     "height": 1000
    },
    "id": "3c764ab0",
    "outputId": "72593e5f-eadb-42d9-c121-8a0c290b9ed1"
   },
   "outputs": [],
   "source": [
    "df2 = df2.sort_values(by='avg_year_delta')\n",
    "df2"
   ]
  },
  {
   "cell_type": "markdown",
   "id": "f03fc6fa",
   "metadata": {},
   "source": [
    "Summary statistics for the `average year delta`. 50% of papers cite material of an average age of 11 years or less."
   ]
  },
  {
   "cell_type": "code",
   "execution_count": null,
   "id": "a6d8e6c3",
   "metadata": {},
   "outputs": [],
   "source": [
    "df2['avg_year_delta'].describe()"
   ]
  },
  {
   "cell_type": "code",
   "execution_count": null,
   "id": "4907e019-565b-4e8b-be2d-48f4c31fdb54",
   "metadata": {
    "colab": {
     "base_uri": "https://localhost:8080/",
     "height": 562
    },
    "id": "1f4d9a56",
    "outputId": "6ecb458f-4c89-4c8c-dcef-5cea16f5bc65"
   },
   "outputs": [],
   "source": [
    "px.ecdf(df2, x='avg_year_delta',\n",
    "       title=f'Cumulative Distribution of the Average Age of Reference by Publication<br>{df2.shape[0]} Publications<br>'\n",
    ")"
   ]
  },
  {
   "cell_type": "markdown",
   "id": "8f14ea84",
   "metadata": {},
   "source": [
    "Save the average year deltas off to a `.csv` file."
   ]
  },
  {
   "cell_type": "code",
   "execution_count": null,
   "id": "f573fc21",
   "metadata": {},
   "outputs": [],
   "source": [
    "df2.to_csv('../files/avg_year_deltas.csv', index=False)"
   ]
  },
  {
   "cell_type": "markdown",
   "id": "53a1d4d6",
   "metadata": {},
   "source": [
    "## That's all for now!\n",
    "There are almost infinite number of questions you could ask about this data, ways to sort, things to plot, etc. We've only scratched the surface by trying to provide a template for the most common questions.\n",
    "\n",
    "If you have things you'd like to see, or questions you want answered, let us know."
   ]
  }
 ],
 "metadata": {
  "kernelspec": {
   "display_name": "Python 3 (ipykernel)",
   "language": "python",
   "name": "python3"
  },
  "language_info": {
   "codemirror_mode": {
    "name": "ipython",
    "version": 3
   },
   "file_extension": ".py",
   "mimetype": "text/x-python",
   "name": "python",
   "nbconvert_exporter": "python",
   "pygments_lexer": "ipython3",
   "version": "3.10.4"
  }
 },
 "nbformat": 4,
 "nbformat_minor": 5
}
